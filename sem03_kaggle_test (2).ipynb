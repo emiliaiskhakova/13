{
  "nbformat": 4,
  "nbformat_minor": 0,
  "metadata": {
    "kernelspec": {
      "display_name": "Python 3",
      "language": "python",
      "name": "python3"
    },
    "language_info": {
      "codemirror_mode": {
        "name": "ipython",
        "version": 3
      },
      "file_extension": ".py",
      "mimetype": "text/x-python",
      "name": "python",
      "nbconvert_exporter": "python",
      "pygments_lexer": "ipython3",
      "version": "3.7.6"
    },
    "colab": {
      "name": "sem03_kaggle_test.ipynb",
      "provenance": [],
      "collapsed_sections": [],
      "toc_visible": true
    }
  },
  "cells": [
    {
      "cell_type": "markdown",
      "metadata": {
        "id": "IE9Ec3JBPDV9"
      },
      "source": [
        "## 2. Получение предсказаний на тестовой выборке и создание файла для kaggle."
      ]
    },
    {
      "cell_type": "markdown",
      "metadata": {
        "id": "4c0WVoN8PDWC"
      },
      "source": [
        "Считаем данные из яндекс-диска"
      ]
    },
    {
      "cell_type": "code",
      "metadata": {
        "colab": {
          "base_uri": "https://localhost:8080/"
        },
        "id": "Yp4t0L6IPc_s",
        "outputId": "a0bdbce6-5993-42fb-b91f-d6681178b902"
      },
      "source": [
        "from google.colab import drive\n",
        "drive.mount('/content/drive')"
      ],
      "execution_count": null,
      "outputs": [
        {
          "output_type": "stream",
          "text": [
            "Mounted at /content/drive\n"
          ],
          "name": "stdout"
        }
      ]
    },
    {
      "cell_type": "code",
      "metadata": {
        "colab": {
          "base_uri": "https://localhost:8080/"
        },
        "id": "GipeyhAvSFw9",
        "outputId": "ce7925d2-46cf-4c02-d493-2dd1e3bbfa79"
      },
      "source": [
        "!unzip \"/content/drive/MyDrive/kaggle_data1.zip\""
      ],
      "execution_count": null,
      "outputs": [
        {
          "output_type": "stream",
          "text": [
            "Archive:  /content/drive/MyDrive/kaggle_data1.zip\n",
            "  inflating: kaggle_data/track_0.csv  \n",
            "  inflating: kaggle_data/track_1.csv  \n",
            "  inflating: kaggle_data/track_10.csv  \n",
            "  inflating: kaggle_data/track_100.csv  \n",
            "  inflating: kaggle_data/track_101.csv  \n",
            "  inflating: kaggle_data/track_102.csv  \n",
            "  inflating: kaggle_data/track_103.csv  \n",
            "  inflating: kaggle_data/track_104.csv  \n",
            "  inflating: kaggle_data/track_105.csv  \n",
            "  inflating: kaggle_data/track_106.csv  \n",
            "  inflating: kaggle_data/track_107.csv  \n",
            "  inflating: kaggle_data/track_108.csv  \n",
            "  inflating: kaggle_data/track_109.csv  \n",
            "  inflating: kaggle_data/track_11.csv  \n",
            "  inflating: kaggle_data/track_110.csv  \n",
            "  inflating: kaggle_data/track_111.csv  \n",
            "  inflating: kaggle_data/track_112.csv  \n",
            "  inflating: kaggle_data/track_113.csv  \n",
            "  inflating: kaggle_data/track_114.csv  \n",
            "  inflating: kaggle_data/track_115.csv  \n",
            "  inflating: kaggle_data/track_116.csv  \n",
            "  inflating: kaggle_data/track_117.csv  \n",
            "  inflating: kaggle_data/track_118.csv  \n",
            "  inflating: kaggle_data/track_119.csv  \n",
            "  inflating: kaggle_data/track_12.csv  \n",
            "  inflating: kaggle_data/track_120.csv  \n",
            "  inflating: kaggle_data/track_121.csv  \n",
            "  inflating: kaggle_data/track_122.csv  \n",
            "  inflating: kaggle_data/track_123.csv  \n",
            "  inflating: kaggle_data/track_124.csv  \n",
            "  inflating: kaggle_data/track_125.csv  \n",
            "  inflating: kaggle_data/track_126.csv  \n",
            "  inflating: kaggle_data/track_127.csv  \n",
            "  inflating: kaggle_data/track_128.csv  \n",
            "  inflating: kaggle_data/track_129.csv  \n",
            "  inflating: kaggle_data/track_13.csv  \n",
            "  inflating: kaggle_data/track_130.csv  \n",
            "  inflating: kaggle_data/track_131.csv  \n",
            "  inflating: kaggle_data/track_132.csv  \n",
            "  inflating: kaggle_data/track_133.csv  \n",
            "  inflating: kaggle_data/track_134.csv  \n",
            "  inflating: kaggle_data/track_135.csv  \n",
            "  inflating: kaggle_data/track_136.csv  \n",
            "  inflating: kaggle_data/track_137.csv  \n",
            "  inflating: kaggle_data/track_138.csv  \n",
            "  inflating: kaggle_data/track_139.csv  \n",
            "  inflating: kaggle_data/track_14.csv  \n",
            "  inflating: kaggle_data/track_140.csv  \n",
            "  inflating: kaggle_data/track_141.csv  \n",
            "  inflating: kaggle_data/track_142.csv  \n",
            "  inflating: kaggle_data/track_143.csv  \n",
            "  inflating: kaggle_data/track_144.csv  \n",
            "  inflating: kaggle_data/track_145.csv  \n",
            "  inflating: kaggle_data/track_15.csv  \n",
            "  inflating: kaggle_data/track_16.csv  \n",
            "  inflating: kaggle_data/track_17.csv  \n",
            "  inflating: kaggle_data/track_18.csv  \n",
            "  inflating: kaggle_data/track_19.csv  \n",
            "  inflating: kaggle_data/track_2.csv  \n",
            "  inflating: kaggle_data/track_20.csv  \n",
            "  inflating: kaggle_data/track_21.csv  \n",
            "  inflating: kaggle_data/track_22.csv  \n",
            "  inflating: kaggle_data/track_23.csv  \n",
            "  inflating: kaggle_data/track_24.csv  \n",
            "  inflating: kaggle_data/track_25.csv  \n",
            "  inflating: kaggle_data/track_26.csv  \n",
            "  inflating: kaggle_data/track_27.csv  \n",
            "  inflating: kaggle_data/track_28.csv  \n",
            "  inflating: kaggle_data/track_29.csv  \n",
            "  inflating: kaggle_data/track_3.csv  \n",
            "  inflating: kaggle_data/track_30.csv  \n",
            "  inflating: kaggle_data/track_31.csv  \n",
            "  inflating: kaggle_data/track_32.csv  \n",
            "  inflating: kaggle_data/track_33.csv  \n",
            "  inflating: kaggle_data/track_34.csv  \n",
            "  inflating: kaggle_data/track_35.csv  \n",
            "  inflating: kaggle_data/track_36.csv  \n",
            "  inflating: kaggle_data/track_37.csv  \n",
            "  inflating: kaggle_data/track_38.csv  \n",
            "  inflating: kaggle_data/track_39.csv  \n",
            "  inflating: kaggle_data/track_4.csv  \n",
            "  inflating: kaggle_data/track_40.csv  \n",
            "  inflating: kaggle_data/track_41.csv  \n",
            "  inflating: kaggle_data/track_42.csv  \n",
            "  inflating: kaggle_data/track_43.csv  \n",
            "  inflating: kaggle_data/track_44.csv  \n",
            "  inflating: kaggle_data/track_45.csv  \n",
            "  inflating: kaggle_data/track_46.csv  \n",
            "  inflating: kaggle_data/track_47.csv  \n",
            "  inflating: kaggle_data/track_48.csv  \n",
            "  inflating: kaggle_data/track_49.csv  \n",
            "  inflating: kaggle_data/track_5.csv  \n",
            "  inflating: kaggle_data/track_50.csv  \n",
            "  inflating: kaggle_data/track_51.csv  \n",
            "  inflating: kaggle_data/track_52.csv  \n",
            "  inflating: kaggle_data/track_53.csv  \n",
            "  inflating: kaggle_data/track_54.csv  \n",
            "  inflating: kaggle_data/track_55.csv  \n",
            "  inflating: kaggle_data/track_56.csv  \n",
            "  inflating: kaggle_data/track_57.csv  \n",
            "  inflating: kaggle_data/track_58.csv  \n",
            "  inflating: kaggle_data/track_59.csv  \n",
            "  inflating: kaggle_data/track_6.csv  \n",
            "  inflating: kaggle_data/track_60.csv  \n",
            "  inflating: kaggle_data/track_61.csv  \n",
            "  inflating: kaggle_data/track_62.csv  \n",
            "  inflating: kaggle_data/track_63.csv  \n",
            "  inflating: kaggle_data/track_64.csv  \n",
            "  inflating: kaggle_data/track_65.csv  \n",
            "  inflating: kaggle_data/track_66.csv  \n",
            "  inflating: kaggle_data/track_67.csv  \n",
            "  inflating: kaggle_data/track_68.csv  \n",
            "  inflating: kaggle_data/track_69.csv  \n",
            "  inflating: kaggle_data/track_7.csv  \n",
            "  inflating: kaggle_data/track_70.csv  \n",
            "  inflating: kaggle_data/track_71.csv  \n",
            "  inflating: kaggle_data/track_72.csv  \n",
            "  inflating: kaggle_data/track_73.csv  \n",
            "  inflating: kaggle_data/track_74.csv  \n",
            "  inflating: kaggle_data/track_75.csv  \n",
            "  inflating: kaggle_data/track_76.csv  \n",
            "  inflating: kaggle_data/track_77.csv  \n",
            "  inflating: kaggle_data/track_78.csv  \n",
            "  inflating: kaggle_data/track_79.csv  \n",
            "  inflating: kaggle_data/track_8.csv  \n",
            "  inflating: kaggle_data/track_80.csv  \n",
            "  inflating: kaggle_data/track_81.csv  \n",
            "  inflating: kaggle_data/track_82.csv  \n",
            "  inflating: kaggle_data/track_83.csv  \n",
            "  inflating: kaggle_data/track_84.csv  \n",
            "  inflating: kaggle_data/track_85.csv  \n",
            "  inflating: kaggle_data/track_86.csv  \n",
            "  inflating: kaggle_data/track_87.csv  \n",
            "  inflating: kaggle_data/track_88.csv  \n",
            "  inflating: kaggle_data/track_89.csv  \n",
            "  inflating: kaggle_data/track_9.csv  \n",
            "  inflating: kaggle_data/track_90.csv  \n",
            "  inflating: kaggle_data/track_91.csv  \n",
            "  inflating: kaggle_data/track_92.csv  \n",
            "  inflating: kaggle_data/track_93.csv  \n",
            "  inflating: kaggle_data/track_94.csv  \n",
            "  inflating: kaggle_data/track_95.csv  \n",
            "  inflating: kaggle_data/track_96.csv  \n",
            "  inflating: kaggle_data/track_97.csv  \n",
            "  inflating: kaggle_data/track_98.csv  \n",
            "  inflating: kaggle_data/track_99.csv  \n"
          ],
          "name": "stdout"
        }
      ]
    },
    {
      "cell_type": "code",
      "metadata": {
        "scrolled": true,
        "colab": {
          "base_uri": "https://localhost:8080/"
        },
        "id": "z0R1X9vNPDWD",
        "outputId": "c319c580-b5a1-41f6-ba02-ff04d23ecd8e"
      },
      "source": [
        "import os\n",
        "import pandas as pd\n",
        "import numpy as np\n",
        "path = r'/content/kaggle_data'  \n",
        "data = {}\n",
        "\n",
        "Data = []\n",
        "Target = []\n",
        "\n",
        "i=0\n",
        "for dir_entry in sorted(os.listdir(path)):\n",
        "    dir_entry_path = os.path.join(path, dir_entry)\n",
        "    if os.path.isfile(dir_entry_path):\n",
        "        i+=1\n",
        "        with open(dir_entry_path, 'r') as my_file:\n",
        "            print(dir_entry_path.split(\"\\\\\")[-1])\n",
        "            try:\n",
        "                df = pd.read_csv(my_file, delimiter=';')\n",
        "                if df.shape[1] == 5:\n",
        "                    Data.append(df)\n",
        "                    Target.append(dir_entry_path.split(\"\\\\\")[-1])\n",
        "            except UnicodeDecodeError:\n",
        "                print(dir_entry_path.split(\"\\\\\")[-1])\n",
        "                pass\n",
        "\n",
        "for dir_entry in sorted(os.listdir(path)):\n",
        "    dir_entry_path = os.path.join(path, dir_entry)\n",
        "    if os.path.isfile(dir_entry_path):\n",
        "        i+=1\n",
        "        with open(dir_entry_path, 'r') as my_file:\n",
        "            print(dir_entry_path.split(\"\\\\\")[-1])\n",
        "            try:\n",
        "                df = pd.read_csv(my_file, delimiter=',')\n",
        "                if df.shape[1] == 5:\n",
        "                    Data.append(df)\n",
        "                    Target.append(dir_entry_path.split(\"\\\\\")[-1])\n",
        "            except UnicodeDecodeError:\n",
        "                print(dir_entry_path.split(\"\\\\\")[-1])\n",
        "                pass"
      ],
      "execution_count": null,
      "outputs": [
        {
          "output_type": "stream",
          "text": [
            "/content/kaggle_data/track_0.csv\n",
            "/content/kaggle_data/track_1.csv\n",
            "/content/kaggle_data/track_10.csv\n",
            "/content/kaggle_data/track_100.csv\n",
            "/content/kaggle_data/track_101.csv\n",
            "/content/kaggle_data/track_102.csv\n",
            "/content/kaggle_data/track_103.csv\n",
            "/content/kaggle_data/track_104.csv\n",
            "/content/kaggle_data/track_105.csv\n",
            "/content/kaggle_data/track_106.csv\n",
            "/content/kaggle_data/track_107.csv\n",
            "/content/kaggle_data/track_108.csv\n",
            "/content/kaggle_data/track_109.csv\n",
            "/content/kaggle_data/track_11.csv\n",
            "/content/kaggle_data/track_110.csv\n",
            "/content/kaggle_data/track_111.csv\n",
            "/content/kaggle_data/track_112.csv\n",
            "/content/kaggle_data/track_113.csv\n",
            "/content/kaggle_data/track_114.csv\n",
            "/content/kaggle_data/track_115.csv\n",
            "/content/kaggle_data/track_116.csv\n",
            "/content/kaggle_data/track_117.csv\n",
            "/content/kaggle_data/track_118.csv\n",
            "/content/kaggle_data/track_119.csv\n",
            "/content/kaggle_data/track_12.csv\n",
            "/content/kaggle_data/track_120.csv\n",
            "/content/kaggle_data/track_121.csv\n",
            "/content/kaggle_data/track_122.csv\n",
            "/content/kaggle_data/track_123.csv\n",
            "/content/kaggle_data/track_124.csv\n",
            "/content/kaggle_data/track_125.csv\n",
            "/content/kaggle_data/track_126.csv\n",
            "/content/kaggle_data/track_127.csv\n",
            "/content/kaggle_data/track_128.csv\n",
            "/content/kaggle_data/track_129.csv\n",
            "/content/kaggle_data/track_13.csv\n",
            "/content/kaggle_data/track_130.csv\n",
            "/content/kaggle_data/track_131.csv\n",
            "/content/kaggle_data/track_132.csv\n",
            "/content/kaggle_data/track_133.csv\n",
            "/content/kaggle_data/track_134.csv\n",
            "/content/kaggle_data/track_135.csv\n",
            "/content/kaggle_data/track_136.csv\n",
            "/content/kaggle_data/track_137.csv\n",
            "/content/kaggle_data/track_138.csv\n",
            "/content/kaggle_data/track_139.csv\n",
            "/content/kaggle_data/track_14.csv\n",
            "/content/kaggle_data/track_140.csv\n",
            "/content/kaggle_data/track_141.csv\n",
            "/content/kaggle_data/track_142.csv\n",
            "/content/kaggle_data/track_143.csv\n",
            "/content/kaggle_data/track_144.csv\n",
            "/content/kaggle_data/track_145.csv\n",
            "/content/kaggle_data/track_15.csv\n",
            "/content/kaggle_data/track_16.csv\n",
            "/content/kaggle_data/track_17.csv\n",
            "/content/kaggle_data/track_18.csv\n",
            "/content/kaggle_data/track_19.csv\n",
            "/content/kaggle_data/track_2.csv\n",
            "/content/kaggle_data/track_20.csv\n",
            "/content/kaggle_data/track_21.csv\n",
            "/content/kaggle_data/track_22.csv\n",
            "/content/kaggle_data/track_23.csv\n",
            "/content/kaggle_data/track_24.csv\n",
            "/content/kaggle_data/track_25.csv\n",
            "/content/kaggle_data/track_26.csv\n",
            "/content/kaggle_data/track_27.csv\n",
            "/content/kaggle_data/track_28.csv\n",
            "/content/kaggle_data/track_29.csv\n",
            "/content/kaggle_data/track_3.csv\n",
            "/content/kaggle_data/track_30.csv\n",
            "/content/kaggle_data/track_31.csv\n",
            "/content/kaggle_data/track_32.csv\n",
            "/content/kaggle_data/track_33.csv\n",
            "/content/kaggle_data/track_34.csv\n",
            "/content/kaggle_data/track_35.csv\n",
            "/content/kaggle_data/track_36.csv\n",
            "/content/kaggle_data/track_37.csv\n",
            "/content/kaggle_data/track_38.csv\n",
            "/content/kaggle_data/track_39.csv\n",
            "/content/kaggle_data/track_4.csv\n",
            "/content/kaggle_data/track_40.csv\n",
            "/content/kaggle_data/track_41.csv\n",
            "/content/kaggle_data/track_42.csv\n",
            "/content/kaggle_data/track_43.csv\n",
            "/content/kaggle_data/track_44.csv\n",
            "/content/kaggle_data/track_45.csv\n",
            "/content/kaggle_data/track_46.csv\n",
            "/content/kaggle_data/track_47.csv\n",
            "/content/kaggle_data/track_48.csv\n",
            "/content/kaggle_data/track_49.csv\n",
            "/content/kaggle_data/track_5.csv\n",
            "/content/kaggle_data/track_50.csv\n",
            "/content/kaggle_data/track_51.csv\n",
            "/content/kaggle_data/track_52.csv\n",
            "/content/kaggle_data/track_53.csv\n",
            "/content/kaggle_data/track_54.csv\n",
            "/content/kaggle_data/track_55.csv\n",
            "/content/kaggle_data/track_56.csv\n",
            "/content/kaggle_data/track_57.csv\n",
            "/content/kaggle_data/track_58.csv\n",
            "/content/kaggle_data/track_59.csv\n",
            "/content/kaggle_data/track_6.csv\n",
            "/content/kaggle_data/track_60.csv\n",
            "/content/kaggle_data/track_61.csv\n",
            "/content/kaggle_data/track_62.csv\n",
            "/content/kaggle_data/track_63.csv\n",
            "/content/kaggle_data/track_64.csv\n",
            "/content/kaggle_data/track_65.csv\n",
            "/content/kaggle_data/track_66.csv\n",
            "/content/kaggle_data/track_67.csv\n",
            "/content/kaggle_data/track_68.csv\n",
            "/content/kaggle_data/track_69.csv\n",
            "/content/kaggle_data/track_7.csv\n",
            "/content/kaggle_data/track_70.csv\n",
            "/content/kaggle_data/track_71.csv\n",
            "/content/kaggle_data/track_72.csv\n",
            "/content/kaggle_data/track_73.csv\n",
            "/content/kaggle_data/track_74.csv\n",
            "/content/kaggle_data/track_75.csv\n",
            "/content/kaggle_data/track_76.csv\n",
            "/content/kaggle_data/track_77.csv\n",
            "/content/kaggle_data/track_78.csv\n",
            "/content/kaggle_data/track_79.csv\n",
            "/content/kaggle_data/track_8.csv\n",
            "/content/kaggle_data/track_80.csv\n",
            "/content/kaggle_data/track_81.csv\n",
            "/content/kaggle_data/track_82.csv\n",
            "/content/kaggle_data/track_83.csv\n",
            "/content/kaggle_data/track_84.csv\n",
            "/content/kaggle_data/track_85.csv\n",
            "/content/kaggle_data/track_86.csv\n",
            "/content/kaggle_data/track_87.csv\n",
            "/content/kaggle_data/track_88.csv\n",
            "/content/kaggle_data/track_89.csv\n",
            "/content/kaggle_data/track_9.csv\n",
            "/content/kaggle_data/track_90.csv\n",
            "/content/kaggle_data/track_91.csv\n",
            "/content/kaggle_data/track_92.csv\n",
            "/content/kaggle_data/track_93.csv\n",
            "/content/kaggle_data/track_94.csv\n",
            "/content/kaggle_data/track_95.csv\n",
            "/content/kaggle_data/track_96.csv\n",
            "/content/kaggle_data/track_97.csv\n",
            "/content/kaggle_data/track_98.csv\n",
            "/content/kaggle_data/track_99.csv\n",
            "/content/kaggle_data/track_0.csv\n",
            "/content/kaggle_data/track_1.csv\n",
            "/content/kaggle_data/track_10.csv\n",
            "/content/kaggle_data/track_100.csv\n",
            "/content/kaggle_data/track_101.csv\n",
            "/content/kaggle_data/track_102.csv\n",
            "/content/kaggle_data/track_103.csv\n",
            "/content/kaggle_data/track_104.csv\n",
            "/content/kaggle_data/track_105.csv\n",
            "/content/kaggle_data/track_106.csv\n",
            "/content/kaggle_data/track_107.csv\n",
            "/content/kaggle_data/track_108.csv\n",
            "/content/kaggle_data/track_109.csv\n",
            "/content/kaggle_data/track_11.csv\n",
            "/content/kaggle_data/track_110.csv\n",
            "/content/kaggle_data/track_111.csv\n",
            "/content/kaggle_data/track_112.csv\n",
            "/content/kaggle_data/track_113.csv\n",
            "/content/kaggle_data/track_114.csv\n",
            "/content/kaggle_data/track_115.csv\n",
            "/content/kaggle_data/track_116.csv\n",
            "/content/kaggle_data/track_117.csv\n",
            "/content/kaggle_data/track_118.csv\n",
            "/content/kaggle_data/track_119.csv\n",
            "/content/kaggle_data/track_12.csv\n",
            "/content/kaggle_data/track_120.csv\n",
            "/content/kaggle_data/track_121.csv\n",
            "/content/kaggle_data/track_122.csv\n",
            "/content/kaggle_data/track_123.csv\n",
            "/content/kaggle_data/track_124.csv\n",
            "/content/kaggle_data/track_125.csv\n",
            "/content/kaggle_data/track_126.csv\n",
            "/content/kaggle_data/track_127.csv\n",
            "/content/kaggle_data/track_128.csv\n",
            "/content/kaggle_data/track_129.csv\n",
            "/content/kaggle_data/track_13.csv\n",
            "/content/kaggle_data/track_130.csv\n",
            "/content/kaggle_data/track_131.csv\n",
            "/content/kaggle_data/track_132.csv\n",
            "/content/kaggle_data/track_133.csv\n",
            "/content/kaggle_data/track_134.csv\n",
            "/content/kaggle_data/track_135.csv\n",
            "/content/kaggle_data/track_136.csv\n",
            "/content/kaggle_data/track_137.csv\n",
            "/content/kaggle_data/track_138.csv\n",
            "/content/kaggle_data/track_139.csv\n",
            "/content/kaggle_data/track_14.csv\n",
            "/content/kaggle_data/track_140.csv\n",
            "/content/kaggle_data/track_141.csv\n",
            "/content/kaggle_data/track_142.csv\n",
            "/content/kaggle_data/track_143.csv\n",
            "/content/kaggle_data/track_144.csv\n",
            "/content/kaggle_data/track_145.csv\n",
            "/content/kaggle_data/track_15.csv\n",
            "/content/kaggle_data/track_16.csv\n",
            "/content/kaggle_data/track_17.csv\n",
            "/content/kaggle_data/track_18.csv\n",
            "/content/kaggle_data/track_19.csv\n",
            "/content/kaggle_data/track_2.csv\n",
            "/content/kaggle_data/track_20.csv\n",
            "/content/kaggle_data/track_21.csv\n",
            "/content/kaggle_data/track_22.csv\n",
            "/content/kaggle_data/track_23.csv\n",
            "/content/kaggle_data/track_24.csv\n",
            "/content/kaggle_data/track_25.csv\n",
            "/content/kaggle_data/track_26.csv\n",
            "/content/kaggle_data/track_27.csv\n",
            "/content/kaggle_data/track_28.csv\n",
            "/content/kaggle_data/track_29.csv\n",
            "/content/kaggle_data/track_3.csv\n",
            "/content/kaggle_data/track_30.csv\n",
            "/content/kaggle_data/track_31.csv\n",
            "/content/kaggle_data/track_32.csv\n",
            "/content/kaggle_data/track_33.csv\n",
            "/content/kaggle_data/track_34.csv\n",
            "/content/kaggle_data/track_35.csv\n",
            "/content/kaggle_data/track_36.csv\n",
            "/content/kaggle_data/track_37.csv\n",
            "/content/kaggle_data/track_38.csv\n",
            "/content/kaggle_data/track_39.csv\n",
            "/content/kaggle_data/track_4.csv\n",
            "/content/kaggle_data/track_40.csv\n",
            "/content/kaggle_data/track_41.csv\n",
            "/content/kaggle_data/track_42.csv\n",
            "/content/kaggle_data/track_43.csv\n",
            "/content/kaggle_data/track_44.csv\n",
            "/content/kaggle_data/track_45.csv\n",
            "/content/kaggle_data/track_46.csv\n",
            "/content/kaggle_data/track_47.csv\n",
            "/content/kaggle_data/track_48.csv\n",
            "/content/kaggle_data/track_49.csv\n",
            "/content/kaggle_data/track_5.csv\n",
            "/content/kaggle_data/track_50.csv\n",
            "/content/kaggle_data/track_51.csv\n",
            "/content/kaggle_data/track_52.csv\n",
            "/content/kaggle_data/track_53.csv\n",
            "/content/kaggle_data/track_54.csv\n",
            "/content/kaggle_data/track_55.csv\n",
            "/content/kaggle_data/track_56.csv\n",
            "/content/kaggle_data/track_57.csv\n",
            "/content/kaggle_data/track_58.csv\n",
            "/content/kaggle_data/track_59.csv\n",
            "/content/kaggle_data/track_6.csv\n",
            "/content/kaggle_data/track_60.csv\n",
            "/content/kaggle_data/track_61.csv\n",
            "/content/kaggle_data/track_62.csv\n",
            "/content/kaggle_data/track_63.csv\n",
            "/content/kaggle_data/track_64.csv\n",
            "/content/kaggle_data/track_65.csv\n",
            "/content/kaggle_data/track_66.csv\n",
            "/content/kaggle_data/track_67.csv\n",
            "/content/kaggle_data/track_68.csv\n",
            "/content/kaggle_data/track_69.csv\n",
            "/content/kaggle_data/track_7.csv\n",
            "/content/kaggle_data/track_70.csv\n",
            "/content/kaggle_data/track_71.csv\n",
            "/content/kaggle_data/track_72.csv\n",
            "/content/kaggle_data/track_73.csv\n",
            "/content/kaggle_data/track_74.csv\n",
            "/content/kaggle_data/track_75.csv\n",
            "/content/kaggle_data/track_76.csv\n",
            "/content/kaggle_data/track_77.csv\n",
            "/content/kaggle_data/track_78.csv\n",
            "/content/kaggle_data/track_79.csv\n",
            "/content/kaggle_data/track_8.csv\n",
            "/content/kaggle_data/track_80.csv\n",
            "/content/kaggle_data/track_81.csv\n",
            "/content/kaggle_data/track_82.csv\n",
            "/content/kaggle_data/track_83.csv\n",
            "/content/kaggle_data/track_84.csv\n",
            "/content/kaggle_data/track_85.csv\n",
            "/content/kaggle_data/track_86.csv\n",
            "/content/kaggle_data/track_87.csv\n",
            "/content/kaggle_data/track_88.csv\n",
            "/content/kaggle_data/track_89.csv\n",
            "/content/kaggle_data/track_9.csv\n",
            "/content/kaggle_data/track_90.csv\n",
            "/content/kaggle_data/track_91.csv\n",
            "/content/kaggle_data/track_92.csv\n",
            "/content/kaggle_data/track_93.csv\n",
            "/content/kaggle_data/track_94.csv\n",
            "/content/kaggle_data/track_95.csv\n",
            "/content/kaggle_data/track_96.csv\n",
            "/content/kaggle_data/track_97.csv\n",
            "/content/kaggle_data/track_98.csv\n",
            "/content/kaggle_data/track_99.csv\n"
          ],
          "name": "stdout"
        }
      ]
    },
    {
      "cell_type": "markdown",
      "metadata": {
        "id": "zl3k5ivPPDWG"
      },
      "source": [
        "Переведём типы движений в числа"
      ]
    },
    {
      "cell_type": "code",
      "metadata": {
        "id": "DNu3kyctPDWH"
      },
      "source": [
        "classes = {'тояни' : 0, 'месте' : 0, 'одьб' : 1, 'аг' : 1, 'ег' : 2, 'елоси' : 3, 'естн' : 4, 'одъ' : 4, \n",
        "           'втомо' : 5, 'ашин' : 5, 'метро' : 6, 'лектро' : 7, 'амок' : 8}\n",
        "\n",
        "answers = {'стояние' : 0, 'ходьба' : 1, 'бег' : 2, 'велосипед' : 3, 'лестница' : 4, \n",
        "           'автомобиль' : 5, 'метро' : 6, 'электросамокат' : 7, 'самокат' : 8}\n",
        "\n",
        "# стояние, ходьба, велосипед, лестница, бег, подъем, подъём, автомобиль, электросамокат, машина, метро"
      ],
      "execution_count": null,
      "outputs": []
    },
    {
      "cell_type": "code",
      "metadata": {
        "id": "gFMFKd_4PDWI"
      },
      "source": [
        "def get_action(name):\n",
        "    for act in classes:\n",
        "        if name.lower().find(act) != -1:\n",
        "            return classes[act]\n",
        "    return -1"
      ],
      "execution_count": null,
      "outputs": []
    },
    {
      "cell_type": "markdown",
      "metadata": {
        "id": "HHHM4sdMPDWI"
      },
      "source": [
        "Обработаем данные и извлечём признаки для создания модели"
      ]
    },
    {
      "cell_type": "code",
      "metadata": {
        "scrolled": true,
        "colab": {
          "base_uri": "https://localhost:8080/",
          "height": 470
        },
        "id": "mVfA_g5OPDWJ",
        "outputId": "47166057-bee4-4a66-f0cc-96a72bac7f92"
      },
      "source": [
        "import pandas as pd\n",
        "from matplotlib import pylab as plt\n",
        "%pylab inline\n",
        "\n",
        "def process_data(df, comma=True, cut=True, name = \"\", a=-1, b=-1):\n",
        "    \n",
        "# обрезаем начало и конец трека\n",
        "    if a == -1:\n",
        "        st = 1250\n",
        "    else:\n",
        "        st = a\n",
        "            \n",
        "    if b == -1:\n",
        "        end = -1250\n",
        "    else:\n",
        "        end = b\n",
        "        \n",
        "    if cut == False:\n",
        "        st = 0\n",
        "        end = -1\n",
        "\n",
        "    print(name)\n",
        "#     fig, ((ax1, ax2)) = plt.subplots(nrows=1, ncols=2, figsize=(15,6))\n",
        "\n",
        "# приводим данные с Iphone к нужному формату\n",
        "    if comma is True:\n",
        "        df = df.applymap(lambda x: str(x).replace(',','.'))\n",
        "        \n",
        "        try:\n",
        "            df['gFx'] = df['gFx'].astype(float)\n",
        "            df['gFy'] = df['gFy'].astype(float)\n",
        "            df['gFz'] = df['gFz'].astype(float)\n",
        "        except KeyError:\n",
        "            return -1\n",
        "\n",
        "# рисуем графики ускорений\n",
        "#     if cut:\n",
        "#         ax1.plot(df.iloc[st:end]['gFx'],c='g')\n",
        "#         ax1.plot(df.iloc[st:end]['gFy'],c='r')\n",
        "#         ax1.plot(df.iloc[st:end]['gFz'],c='b')\n",
        "#     else:\n",
        "#         ax1.plot(df['gFx'],c='g')\n",
        "#         ax1.plot(df['gFy'],c='r')\n",
        "#         ax1.plot(df['gFz'],c='b')\n",
        "        \n",
        "# вычисляем модуль (норму) ускорения и рисуем его\n",
        "    Acc = (df.gFx[st:end] ** 2 + df.gFy[st:end] ** 2 + df.gFz[st:end] ** 2) ** 0.5\n",
        "#     ax2.plot(Acc)\n",
        "#     plt.show()\n",
        "\n",
        "# можно различить многие действия по амплитуде ускорения\n",
        "    v = int(Acc)\n",
        "    amplitude = Acc.max() - Acc.min()\n",
        "    print(' АМПЛИТУДА:', Acc.max()-Acc.min())\n",
        "    print()\n",
        "    \n",
        "    return amplitude\n",
        "\n",
        "Ampl = np.zeros(len(Data)) \n",
        "\n",
        "for df, target in zip(Data,Target):\n",
        "    track_num = int(target.split('_')[2].split('.')[0]) # важный момент, что треки не по нумерации идут!\n",
        "    Ampl[track_num] = process_data(df, name=target)"
      ],
      "execution_count": null,
      "outputs": [
        {
          "output_type": "stream",
          "text": [
            "Populating the interactive namespace from numpy and matplotlib\n",
            "/content/kaggle_data/track_0.csv\n"
          ],
          "name": "stdout"
        },
        {
          "output_type": "stream",
          "text": [
            "/usr/local/lib/python3.7/dist-packages/IPython/core/magics/pylab.py:161: UserWarning: pylab import has clobbered these variables: ['plt']\n",
            "`%matplotlib` prevents importing * from pylab and numpy\n",
            "  \"\\n`%matplotlib` prevents importing * from pylab and numpy\"\n"
          ],
          "name": "stderr"
        },
        {
          "output_type": "error",
          "ename": "TypeError",
          "evalue": "ignored",
          "traceback": [
            "\u001b[0;31m---------------------------------------------------------------------------\u001b[0m",
            "\u001b[0;31mTypeError\u001b[0m                                 Traceback (most recent call last)",
            "\u001b[0;32m<ipython-input-21-c53bc73884d1>\u001b[0m in \u001b[0;36m<module>\u001b[0;34m()\u001b[0m\n\u001b[1;32m     61\u001b[0m \u001b[0;32mfor\u001b[0m \u001b[0mdf\u001b[0m\u001b[0;34m,\u001b[0m \u001b[0mtarget\u001b[0m \u001b[0;32min\u001b[0m \u001b[0mzip\u001b[0m\u001b[0;34m(\u001b[0m\u001b[0mData\u001b[0m\u001b[0;34m,\u001b[0m\u001b[0mTarget\u001b[0m\u001b[0;34m)\u001b[0m\u001b[0;34m:\u001b[0m\u001b[0;34m\u001b[0m\u001b[0;34m\u001b[0m\u001b[0m\n\u001b[1;32m     62\u001b[0m     \u001b[0mtrack_num\u001b[0m \u001b[0;34m=\u001b[0m \u001b[0mint\u001b[0m\u001b[0;34m(\u001b[0m\u001b[0mtarget\u001b[0m\u001b[0;34m.\u001b[0m\u001b[0msplit\u001b[0m\u001b[0;34m(\u001b[0m\u001b[0;34m'_'\u001b[0m\u001b[0;34m)\u001b[0m\u001b[0;34m[\u001b[0m\u001b[0;36m2\u001b[0m\u001b[0;34m]\u001b[0m\u001b[0;34m.\u001b[0m\u001b[0msplit\u001b[0m\u001b[0;34m(\u001b[0m\u001b[0;34m'.'\u001b[0m\u001b[0;34m)\u001b[0m\u001b[0;34m[\u001b[0m\u001b[0;36m0\u001b[0m\u001b[0;34m]\u001b[0m\u001b[0;34m)\u001b[0m \u001b[0;31m# важный момент, что треки не по нумерации идут!\u001b[0m\u001b[0;34m\u001b[0m\u001b[0;34m\u001b[0m\u001b[0m\n\u001b[0;32m---> 63\u001b[0;31m     \u001b[0mAmpl\u001b[0m\u001b[0;34m[\u001b[0m\u001b[0mtrack_num\u001b[0m\u001b[0;34m]\u001b[0m \u001b[0;34m=\u001b[0m \u001b[0mprocess_data\u001b[0m\u001b[0;34m(\u001b[0m\u001b[0mdf\u001b[0m\u001b[0;34m,\u001b[0m \u001b[0mname\u001b[0m\u001b[0;34m=\u001b[0m\u001b[0mtarget\u001b[0m\u001b[0;34m)\u001b[0m\u001b[0;34m\u001b[0m\u001b[0;34m\u001b[0m\u001b[0m\n\u001b[0m",
            "\u001b[0;32m<ipython-input-21-c53bc73884d1>\u001b[0m in \u001b[0;36mprocess_data\u001b[0;34m(df, comma, cut, name, a, b)\u001b[0m\n\u001b[1;32m     50\u001b[0m \u001b[0;34m\u001b[0m\u001b[0m\n\u001b[1;32m     51\u001b[0m \u001b[0;31m# можно различить многие действия по амплитуде ускорения\u001b[0m\u001b[0;34m\u001b[0m\u001b[0;34m\u001b[0m\u001b[0;34m\u001b[0m\u001b[0m\n\u001b[0;32m---> 52\u001b[0;31m     \u001b[0mv\u001b[0m \u001b[0;34m=\u001b[0m \u001b[0mint\u001b[0m\u001b[0;34m(\u001b[0m\u001b[0mAcc\u001b[0m\u001b[0;34m)\u001b[0m\u001b[0;34m\u001b[0m\u001b[0;34m\u001b[0m\u001b[0m\n\u001b[0m\u001b[1;32m     53\u001b[0m     \u001b[0mamplitude\u001b[0m \u001b[0;34m=\u001b[0m \u001b[0mAcc\u001b[0m\u001b[0;34m.\u001b[0m\u001b[0mmax\u001b[0m\u001b[0;34m(\u001b[0m\u001b[0;34m)\u001b[0m \u001b[0;34m-\u001b[0m \u001b[0mAcc\u001b[0m\u001b[0;34m.\u001b[0m\u001b[0mmin\u001b[0m\u001b[0;34m(\u001b[0m\u001b[0;34m)\u001b[0m\u001b[0;34m\u001b[0m\u001b[0;34m\u001b[0m\u001b[0m\n\u001b[1;32m     54\u001b[0m     \u001b[0mprint\u001b[0m\u001b[0;34m(\u001b[0m\u001b[0;34m' АМПЛИТУДА:'\u001b[0m\u001b[0;34m,\u001b[0m \u001b[0mAcc\u001b[0m\u001b[0;34m.\u001b[0m\u001b[0mmax\u001b[0m\u001b[0;34m(\u001b[0m\u001b[0;34m)\u001b[0m\u001b[0;34m-\u001b[0m\u001b[0mAcc\u001b[0m\u001b[0;34m.\u001b[0m\u001b[0mmin\u001b[0m\u001b[0;34m(\u001b[0m\u001b[0;34m)\u001b[0m\u001b[0;34m)\u001b[0m\u001b[0;34m\u001b[0m\u001b[0;34m\u001b[0m\u001b[0m\n",
            "\u001b[0;32m/usr/local/lib/python3.7/dist-packages/pandas/core/series.py\u001b[0m in \u001b[0;36mwrapper\u001b[0;34m(self)\u001b[0m\n\u001b[1;32m    127\u001b[0m         \u001b[0;32mif\u001b[0m \u001b[0mlen\u001b[0m\u001b[0;34m(\u001b[0m\u001b[0mself\u001b[0m\u001b[0;34m)\u001b[0m \u001b[0;34m==\u001b[0m \u001b[0;36m1\u001b[0m\u001b[0;34m:\u001b[0m\u001b[0;34m\u001b[0m\u001b[0;34m\u001b[0m\u001b[0m\n\u001b[1;32m    128\u001b[0m             \u001b[0;32mreturn\u001b[0m \u001b[0mconverter\u001b[0m\u001b[0;34m(\u001b[0m\u001b[0mself\u001b[0m\u001b[0;34m.\u001b[0m\u001b[0miloc\u001b[0m\u001b[0;34m[\u001b[0m\u001b[0;36m0\u001b[0m\u001b[0;34m]\u001b[0m\u001b[0;34m)\u001b[0m\u001b[0;34m\u001b[0m\u001b[0;34m\u001b[0m\u001b[0m\n\u001b[0;32m--> 129\u001b[0;31m         \u001b[0;32mraise\u001b[0m \u001b[0mTypeError\u001b[0m\u001b[0;34m(\u001b[0m\u001b[0;34mf\"cannot convert the series to {converter}\"\u001b[0m\u001b[0;34m)\u001b[0m\u001b[0;34m\u001b[0m\u001b[0;34m\u001b[0m\u001b[0m\n\u001b[0m\u001b[1;32m    130\u001b[0m \u001b[0;34m\u001b[0m\u001b[0m\n\u001b[1;32m    131\u001b[0m     \u001b[0mwrapper\u001b[0m\u001b[0;34m.\u001b[0m\u001b[0m__name__\u001b[0m \u001b[0;34m=\u001b[0m \u001b[0;34mf\"__{converter.__name__}__\"\u001b[0m\u001b[0;34m\u001b[0m\u001b[0;34m\u001b[0m\u001b[0m\n",
            "\u001b[0;31mTypeError\u001b[0m: cannot convert the series to <class 'int'>"
          ]
        }
      ]
    },
    {
      "cell_type": "markdown",
      "metadata": {
        "id": "cQUwFbR_PDWL"
      },
      "source": [
        "Напишем функцию для получения предсказания (здесь используется только амплитуда, но в вашем итоговом решении будет больше признаков)"
      ]
    },
    {
      "cell_type": "code",
      "metadata": {
        "id": "4q2_DAZGPDWL"
      },
      "source": [
        "def get_prediction(ampl):\n",
        "    if ampl < 1:\n",
        "        return 0 #стояние\n",
        "    if ampl > :\n",
        "        return 5\n",
        "    if ampl >  5 :\n",
        "        return 2 #бег\n",
        "    return 1 #ходьба"
      ],
      "execution_count": null,
      "outputs": []
    },
    {
      "cell_type": "code",
      "metadata": {
        "colab": {
          "base_uri": "https://localhost:8080/"
        },
        "id": "rJxNkdHSPDWM",
        "outputId": "7e9af2a9-2e6e-47cf-a1cd-b817cd93101c"
      },
      "source": [
        "len(Data), len(Ampl), len(Target)"
      ],
      "execution_count": null,
      "outputs": [
        {
          "output_type": "execute_result",
          "data": {
            "text/plain": [
              "(146, 146, 146)"
            ]
          },
          "metadata": {
            "tags": []
          },
          "execution_count": 15
        }
      ]
    },
    {
      "cell_type": "code",
      "metadata": {
        "colab": {
          "base_uri": "https://localhost:8080/"
        },
        "id": "5RIQLt9sPDWN",
        "outputId": "9d25dd12-4c37-429d-d844-96c4cd5a84f5"
      },
      "source": [
        "type(Data)"
      ],
      "execution_count": null,
      "outputs": [
        {
          "output_type": "execute_result",
          "data": {
            "text/plain": [
              "list"
            ]
          },
          "metadata": {
            "tags": []
          },
          "execution_count": 16
        }
      ]
    },
    {
      "cell_type": "code",
      "metadata": {
        "colab": {
          "base_uri": "https://localhost:8080/"
        },
        "id": "PvGrASiWPDWN",
        "outputId": "1a03cd78-8fa0-462a-b24f-09e384fe3073"
      },
      "source": [
        "Ampl_new = []\n",
        "\n",
        "i=0\n",
        "for elem in Ampl:\n",
        "    if not (math.isnan(elem) or elem == -1):\n",
        "        i+=1\n",
        "        Ampl_new.append(elem)\n",
        "    else:\n",
        "        Ampl_new.append(2)\n",
        "len(Ampl_new), i"
      ],
      "execution_count": null,
      "outputs": [
        {
          "output_type": "execute_result",
          "data": {
            "text/plain": [
              "(146, 140)"
            ]
          },
          "metadata": {
            "tags": []
          },
          "execution_count": 11
        }
      ]
    },
    {
      "cell_type": "markdown",
      "metadata": {
        "id": "6Oq-EBYmPDWO"
      },
      "source": [
        "Создадим таблицу, содержащую номер трека и предсказание."
      ]
    },
    {
      "cell_type": "code",
      "metadata": {
        "colab": {
          "base_uri": "https://localhost:8080/",
          "height": 363
        },
        "id": "SNZ6aLThPDWP",
        "outputId": "a704ca8c-f4ae-46e4-cd69-1cd4e6f6e80b"
      },
      "source": [
        "prediction = [get_prediction(a) for a in Ampl]\n",
        "\n",
        "Res = pd.DataFrame({'track_num' : np.arange(len(Data)), 'action' : prediction})\n",
        "Res.head(10)"
      ],
      "execution_count": null,
      "outputs": [
        {
          "output_type": "execute_result",
          "data": {
            "text/html": [
              "<div>\n",
              "<style scoped>\n",
              "    .dataframe tbody tr th:only-of-type {\n",
              "        vertical-align: middle;\n",
              "    }\n",
              "\n",
              "    .dataframe tbody tr th {\n",
              "        vertical-align: top;\n",
              "    }\n",
              "\n",
              "    .dataframe thead th {\n",
              "        text-align: right;\n",
              "    }\n",
              "</style>\n",
              "<table border=\"1\" class=\"dataframe\">\n",
              "  <thead>\n",
              "    <tr style=\"text-align: right;\">\n",
              "      <th></th>\n",
              "      <th>track_num</th>\n",
              "      <th>action</th>\n",
              "    </tr>\n",
              "  </thead>\n",
              "  <tbody>\n",
              "    <tr>\n",
              "      <th>0</th>\n",
              "      <td>0</td>\n",
              "      <td>1</td>\n",
              "    </tr>\n",
              "    <tr>\n",
              "      <th>1</th>\n",
              "      <td>1</td>\n",
              "      <td>1</td>\n",
              "    </tr>\n",
              "    <tr>\n",
              "      <th>2</th>\n",
              "      <td>2</td>\n",
              "      <td>1</td>\n",
              "    </tr>\n",
              "    <tr>\n",
              "      <th>3</th>\n",
              "      <td>3</td>\n",
              "      <td>2</td>\n",
              "    </tr>\n",
              "    <tr>\n",
              "      <th>4</th>\n",
              "      <td>4</td>\n",
              "      <td>1</td>\n",
              "    </tr>\n",
              "    <tr>\n",
              "      <th>5</th>\n",
              "      <td>5</td>\n",
              "      <td>1</td>\n",
              "    </tr>\n",
              "    <tr>\n",
              "      <th>6</th>\n",
              "      <td>6</td>\n",
              "      <td>1</td>\n",
              "    </tr>\n",
              "    <tr>\n",
              "      <th>7</th>\n",
              "      <td>7</td>\n",
              "      <td>5</td>\n",
              "    </tr>\n",
              "    <tr>\n",
              "      <th>8</th>\n",
              "      <td>8</td>\n",
              "      <td>0</td>\n",
              "    </tr>\n",
              "    <tr>\n",
              "      <th>9</th>\n",
              "      <td>9</td>\n",
              "      <td>0</td>\n",
              "    </tr>\n",
              "  </tbody>\n",
              "</table>\n",
              "</div>"
            ],
            "text/plain": [
              "   track_num  action\n",
              "0          0       1\n",
              "1          1       1\n",
              "2          2       1\n",
              "3          3       2\n",
              "4          4       1\n",
              "5          5       1\n",
              "6          6       1\n",
              "7          7       5\n",
              "8          8       0\n",
              "9          9       0"
            ]
          },
          "metadata": {
            "tags": []
          },
          "execution_count": 12
        }
      ]
    },
    {
      "cell_type": "code",
      "metadata": {
        "id": "1FheVhlMPDWP"
      },
      "source": [
        "Res.to_csv(\"first_submit.csv\", index=False)"
      ],
      "execution_count": null,
      "outputs": []
    }
  ]
}